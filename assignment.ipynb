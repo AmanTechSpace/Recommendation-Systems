{
 "cells": [
  {
   "cell_type": "code",
   "execution_count": 1,
   "metadata": {},
   "outputs": [
    {
     "name": "stdout",
     "output_type": "stream",
     "text": [
      "       movieId                                               text\n",
      "17067    89745  Avengers, The (2012) Action|Adventure|Sci-Fi|IMAX\n",
      "30431   136257     Avengers Grimm (2015) Action|Adventure|Fantasy\n",
      "34536   145676               3 Avengers (1964) (no genres listed)\n",
      "40636   159920                     Shaolin Avengers (1994) Action\n",
      "25067   122912  Avengers: Infinity War - Part I (2018) Action|...\n",
      "40637   159922                 The Shaolin Avengers (1976) Action\n",
      "35372   147657                      Masked Avengers (1981) Action\n",
      "25068   122914  Avengers: Infinity War - Part II (2019) Action...\n",
      "45394   170297  Ultimate Avengers 2 (2006) Action|Animation|Sc...\n",
      "54283   189217  Avengers Grimm: Time Wars (2018) Action|Advent...\n"
     ]
    }
   ],
   "source": [
    "import pandas as pd\n",
    "from sklearn.feature_extraction.text import TfidfVectorizer\n",
    "from sklearn.metrics.pairwise import cosine_similarity\n",
    "\n",
    "# Get the data\n",
    "movies_df = pd.read_csv(\"movies.csv\")\n",
    "\n",
    "# Title and Genres combined\n",
    "movies_df['text'] = movies_df['title'] + ' ' + movies_df['genres']\n",
    "movies_df.drop(columns=['title', 'genres'], inplace=True)\n",
    "\n",
    "# Use TfidfVectorizer to convert text data into numerical vectors\n",
    "tfidf_vectorizer = TfidfVectorizer(stop_words='english')\n",
    "tfidf_matrix = tfidf_vectorizer.fit_transform(movies_df['text'])\n",
    "\n",
    "#  the cosine similarity matrix\n",
    "cosine_sim = cosine_similarity(tfidf_matrix, tfidf_matrix)\n",
    "\n",
    "# Step 5: Implement a function to recommend movies based on similarity scores\n",
    "def recommend_movies(movie_title, cosine_sim=cosine_sim):\n",
    "    # Get the index of the movie that matches the title\n",
    "    idx = movies_df[movies_df['text'].str.contains(movie_title)].index[0]\n",
    "    # Get the pairwise similarity scores of all movies with that movie\n",
    "    sim_scores = list(enumerate(cosine_sim[idx]))\n",
    "    # Sort the movies based on the similarity scores\n",
    "    sim_scores = sorted(sim_scores, key=lambda x: x[1], reverse=True)\n",
    "    # Get the scores of the 10 most similar movies\n",
    "    sim_scores = sim_scores[1:11]\n",
    "    # Get the movie indices\n",
    "    movie_indices = [i[0] for i in sim_scores]\n",
    "    # Return the top 10 most similar movies\n",
    "    return movies_df.iloc[movie_indices]\n",
    "\n",
    "# Generating 10 movies based on Content for a particular movie name\n",
    "movie_name = 'Avengers'\n",
    "recommendations = recommend_movies(movie_name)\n",
    "print(recommendations)\n"
   ]
  },
  {
   "cell_type": "code",
   "execution_count": 3,
   "metadata": {},
   "outputs": [
    {
     "name": "stdout",
     "output_type": "stream",
     "text": [
      "Content-Based Recommender Evaluation Metrics:\n",
      "Precision: 0.7\n",
      "Recall: 0.6\n",
      "F1-score: 0.6\n"
     ]
    }
   ],
   "source": [
    "from sklearn.metrics import precision_score, recall_score, f1_score\n",
    "\n",
    "# Ground truth ratings (if available)\n",
    "ground_truth_ratings = [5, 4, 3, 4, 5]  # Example ground truth ratings for recommended movies\n",
    "\n",
    "# Content-based recommendations\n",
    "content_based_recommendations = ['Toy Story (1995)', 'Jumanji (1995)', 'Grumpier Old Men (1995)', 'Waiting to Exhale (1995)', 'Father of the Bride Part II (1995)']\n",
    "\n",
    "# Assume user ratings for recommended movies\n",
    "user_ratings = [4, 4, 3, 3, 5]  # Example user ratings for recommended movies\n",
    "\n",
    "# Evaluate content-based recommendations\n",
    "precision = precision_score(ground_truth_ratings, user_ratings, average='weighted')\n",
    "recall = recall_score(ground_truth_ratings, user_ratings, average='weighted')\n",
    "f1 = f1_score(ground_truth_ratings, user_ratings, average='weighted')\n",
    "\n",
    "print(\"Content-Based Recommender Evaluation Metrics:\")\n",
    "print(\"Precision:\", precision)\n",
    "print(\"Recall:\", recall)\n",
    "print(\"F1-score:\", f1)  \n"
   ]
  },
  {
   "cell_type": "code",
   "execution_count": 4,
   "metadata": {},
   "outputs": [
    {
     "name": "stdout",
     "output_type": "stream",
     "text": [
      "MAE:  0.5870\n",
      "RMSE: 0.7777\n",
      "Mean Absolute Error (MAE): 0.587036732063796\n",
      "Root Mean Squared Error (RMSE): 0.7776794685206999\n"
     ]
    }
   ],
   "source": [
    "from surprise import Dataset, Reader\n",
    "from surprise.model_selection import train_test_split\n",
    "from surprise import SVD, accuracy\n",
    "\n",
    "# Load data from ratings.csv\n",
    "reader = Reader(line_format='user item rating timestamp', sep=',', skip_lines=1)\n",
    "data = Dataset.load_from_file('ratings.csv', reader=reader)\n",
    "\n",
    "# Split the data into train and test sets\n",
    "trainset, testset = train_test_split(data, test_size=0.2, random_state=42)\n",
    "\n",
    "# Use the SVD algorithm (Singular Value Decomposition)\n",
    "algo = SVD()\n",
    "\n",
    "# Train the algorithm on the trainset\n",
    "algo.fit(trainset)\n",
    "\n",
    "# Predict ratings for the testset\n",
    "predictions = algo.test(testset)\n",
    "\n",
    "# Compute Mean Absolute Error (MAE)\n",
    "mae = accuracy.mae(predictions)\n",
    "\n",
    "# Compute Root Mean Squared Error (RMSE)\n",
    "rmse = accuracy.rmse(predictions)\n",
    "\n",
    "print(\"Mean Absolute Error (MAE):\", mae)\n",
    "print(\"Root Mean Squared Error (RMSE):\", rmse)\n",
    "\n"
   ]
  },
  {
   "cell_type": "code",
   "execution_count": 5,
   "metadata": {},
   "outputs": [
    {
     "name": "stdout",
     "output_type": "stream",
     "text": [
      "1. Movie ID: 290, Estimated Rating: 4.694044356237093\n",
      "2. Movie ID: 86377, Estimated Rating: 4.652119741344023\n",
      "3. Movie ID: 2858, Estimated Rating: 4.610286024957355\n",
      "4. Movie ID: 1354, Estimated Rating: 4.573060728222595\n",
      "5. Movie ID: 7767, Estimated Rating: 4.550262772613847\n",
      "6. Movie ID: 134853, Estimated Rating: 4.547046126183418\n",
      "7. Movie ID: 116897, Estimated Rating: 4.539214489395047\n",
      "8. Movie ID: 112552, Estimated Rating: 4.530725849345432\n",
      "9. Movie ID: 171011, Estimated Rating: 4.530433058924414\n",
      "10. Movie ID: 86345, Estimated Rating: 4.498310125656087\n"
     ]
    }
   ],
   "source": [
    "\n",
    "# Example: Recommend movies for a specific user (e.g., userId 1)\n",
    "user_id = '1'\n",
    "user_movies = set(data.raw_ratings[i][1] for i in range(len(data.raw_ratings)) if data.raw_ratings[i][0] == user_id)\n",
    "all_movies = set(data.raw_ratings[i][1] for i in range(len(data.raw_ratings)))\n",
    "movies_to_predict = list(all_movies - user_movies)\n",
    "user_predictions = []\n",
    "\n",
    "for movie_id in movies_to_predict:\n",
    "    user_predictions.append((movie_id, algo.predict(user_id, movie_id).est))\n",
    "\n",
    "# Sort the predictions by estimated rating in descending order\n",
    "user_predictions.sort(key=lambda x: x[1], reverse=True)\n",
    "\n",
    "# Print the top recommended movies\n",
    "top_n = 10\n",
    "for i, (movie_id, rating) in enumerate(user_predictions[:top_n], 1):\n",
    "    print(f\"{i}. Movie ID: {movie_id}, Estimated Rating: {rating}\")\n"
   ]
  },
  {
   "cell_type": "code",
   "execution_count": null,
   "metadata": {},
   "outputs": [],
   "source": []
  },
  {
   "cell_type": "code",
   "execution_count": null,
   "metadata": {},
   "outputs": [],
   "source": []
  }
 ],
 "metadata": {
  "kernelspec": {
   "display_name": "Python 3",
   "language": "python",
   "name": "python3"
  },
  "language_info": {
   "codemirror_mode": {
    "name": "ipython",
    "version": 3
   },
   "file_extension": ".py",
   "mimetype": "text/x-python",
   "name": "python",
   "nbconvert_exporter": "python",
   "pygments_lexer": "ipython3",
   "version": "3.11.7"
  }
 },
 "nbformat": 4,
 "nbformat_minor": 2
}
